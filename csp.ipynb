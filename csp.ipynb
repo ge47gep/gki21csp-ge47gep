{
 "cells": [
  {
   "cell_type": "markdown",
   "metadata": {},
   "source": [
    "# Programming Exercise 2: Constraint Satisfaction Problem"
   ]
  },
  {
   "cell_type": "markdown",
   "metadata": {},
   "source": [
    "## Your task\n",
    "This programming exercise is comprised of two parts: \n",
    "1) Demo notebook (`csp_demo.ipynb`): a demonstration on how to use the solver powered by the aima-python project to solve basic constraint satisfaction problems \\\n",
    "2) **This Exercise notebook (`csp.ipynb`): notebook to implement and submit your solution for the CSP programming exercise \"Student Presentation\"**\n",
    "\n"
   ]
  },
  {
   "cell_type": "markdown",
   "metadata": {},
   "source": [
    "**Programming Framework**:\n",
    "\n",
    "For this programming exercise Jupyter Notebooks will be used. The template for the exercise can be\n",
    "found in ARTEMIS. Since you have to model the constraint satisfaction problem, programming skills in\n",
    "Python lambdas, lists and dictionaries are necessary to complete this exercise. The following steps are\n",
    "required to correctly set up the environment for the programming exercise:\n",
    "1. **Installation of Anaconda and Download of the AIMA python code**: If you do not already\n",
    "have the Jupyter Notebook environment installed on your machine, the installation is the first\n",
    "step you have to perform. We recommend to install via Anaconda, since this will set up the whole\n",
    "environment for you. The template for the programming exercise is based on the code from the\n",
    "AIMAcode project. Therefore, you first have to download the code from this project before the\n",
    "template can be used. Instructions for installation of Anaconda and AIMA python code can be found in \"AIMA Code Installation Instructions\" on Moodle (see task description).\n",
    "2. **Pull of the template**: Pull the repository with the template from ARTEMIS. To avoid issues\n",
    "with the relative file paths, we recommend to copy all files contained in the template into the\n",
    "root directory of the AIMAcode project that you downloaded in the previous step.\n",
    "                                                                                         \n",
    "After completing the above steps, you are all set up to start with the exercise. **The main function of\n",
    "the template is the Jupyter Notebook csp.ipynb.** Your task is to model the Student Presentation problem. \n",
    "\n",
    "                                                                                         \n",
    "**Submission:**\n",
    "\n",
    "For submission, you have to upload the following files in ARTEMIS:\n",
    "1. Copy **`csp.ipynb`** (notebook containing your solution for modelling the Student Presentation problem) to the pulled repository.\n",
    "2. Add and commit the modified notebook, and push it to ARTEMIS.\n",
    "\n",
    "**A pass will be awarded only if:**\n",
    "1. you submitted the **correct file** with the **correct name**, as shown above.\n",
    "2. you **did not zip** your file.\n",
    "3. you **pushed your files to your ARTEMIS branch.**\n",
    "4. you **did not change the variable names** provided by us within the template.\n",
    "5. your submitted files can be run in an Anaconda environment (Python 3.7) with the packages provided by the requirements.txt in the aima repository, the utils.py, the search.py and the csp_programming_exercise.py\n",
    "provided by us **within a reasonable time (under 5 minutes).**\n",
    "6. the problem has been modelled correctly using the NaryCSP class from the module\n",
    "csp programming exercise.\n",
    "7. like the rest of the programming exercises, this is an individual project and you **must** finish the task on your own. (We will use a plagiarism detection tool and any copied code will annul all bonus exercises\n",
    "from both the copier and the copied person!)\n",
    "\n",
    "Submission will close on <b><font color='red'>Friday, 24.12.2021 at 23:59</font></b>. Your solution will be graded by ARTEMIS.\n",
    "There will be feedback on formatting errors and rightly solved CSP. Nonetheless, it is very important to\n",
    "follow the instructions exactly!\n",
    "\n",
    "We offer preliminary checks of your solution and ARTEMIS will show your progress. You can submit\n",
    "your solution multiple times and get feedback for each submission. Your final submission will be checked.\n",
    "We award 1 point if all checks including plagiarism pass.\n",
    "                                                                                         \n",
    "\n",
    "\n",
    "<div class=\"alert alert-info\">\n",
    "    <h3>Please read the following important information before starting with the programming exercise: </h3>\n",
    "    <p>In order to avoid problems with the relative file path we recommend to <b>place all provided files</b> in the rootfolder of your <b>aima repository</b>.</p> \n",
    "    <p>Do not use/install any additional packages, which are not provided in the requirements.txt of the  <b>aima repository</b>. </p>\n",
    "    <p>For modelling the constraint satisfaction problem you will have to define some variables. <b>Do not change the names of variables that we provided you!</b> Since we use these variables for an automatic evaluation, changing  variable names will result in failing the programming exercise. </p>\n",
    "    <p><b>Do not modify</b> the example with the TWO + TWO = FOUR problem!</p>\n",
    "    <p><b>Do not modify</b> the csp_programming_exercise.py!</p>\n",
    "    <p>If we are not able to run your submitted files in an environment with the packages provided by the requirements.txt of the <b>aima repository</b>, you will fail the programming exercise.</p>\n",
    "    \n",
    "</div>"
   ]
  },
  {
   "cell_type": "markdown",
   "metadata": {},
   "source": [
    "**Task description:**\n",
    "\n",
    "The course **Techniques in Artificial Intelligence** plans to invite 8 students to give presentations of 4 different topics to help others better understand the abstract theoretical knowledge. The topics are: CommonRoad (CR), Constraint Satisfaction Problem (CSP), Logic and Hidden Markov Model (HMM). 8 volunteers will participate in this event: Alice, Bill, Carol, Daniel, Edith, Frank, Grace, Harry. Every volunteer can take part in **at most** 1 presentation.\n",
    "Different time budget will be allocated to students according to different topic:\n",
    "\n",
    "• CR: 15min/presenter\\\n",
    "• CSP: 8min/presenter\\\n",
    "• Logic: 12min/presenter\\\n",
    "• HMM: 10min/presenter\n",
    "\n",
    "Note that these are merely 4 topics planned, which don't necessarily have to take place all. Which topic(s) is/are actually going to be presented depend(s) on the given constraints. Now consider the following constraints:\n",
    "\n",
    "1.\tThe topic CR is complex so that it requires at least 3 presenters, if it is to be presented \n",
    "2.\tThe topic CSP requires at most 2 presenters, if it is to be presented\n",
    "3.\tThe topic Logic requires 1-2 presenters, if it is to be presented\n",
    "4.\tThe topic HMM requires 2-3 presenters , if it is to be presented\n",
    "5.\tAlice doesn't present alone. She doesn't want to present with Edith either\n",
    "6.\tAlice and Bill don't want to present the topic CSP\n",
    "7.\tCarol and Daniel are a couple so they want to present together\n",
    "8.\tEdith, Frank and Grace will not present together (neither wants to work with any of the other two)\n",
    "9.\tGrace and Harry love challenges so they want to present the topic CR\n",
    "10.\tCarol and Harry are good friends and want to present together\n",
    "11.\tBill, Daniel and Edith are in a study group so they want to present as a team\n",
    "12.\tAlice is the “Tandem” of  Frank so they want to work on the same topic\n",
    "13.\tBill wants to present the topic Logic\n",
    "14.\tConsidering the limited time of the lecture, the total presentation time shall not exceed 90 min \n",
    "15.\tNo one will present alone\n",
    "16.\tAt least 3 topics should be presented\n",
    "17.\tAll topics should be presented\n",
    "\n",
    "Model the constraint satisfaction problem in Python. For each of the following subsets of constraints, find the solution, if it exists:\n",
    "\n",
    "Problem 2.1: { 1 – 10，13, 16 }\\\n",
    "Problem 2.2: { 1 – 5, 7 – 10, 17 }\\\n",
    "Problem 2.3: { 1 – 5, 9, 11，15, 16 } \\\n",
    "Problem 2.4: { 1 – 4, 6 – 10, 12, 16 }\\\n",
    "Problem 2.5: { 1 – 4, 9, 14 – 17 }\n",
    "\n",
    "Note that problem 2.5 may not be satisfied."
   ]
  },
  {
   "cell_type": "markdown",
   "metadata": {},
   "source": [
    "## Initialization"
   ]
  },
  {
   "cell_type": "code",
   "execution_count": null,
   "metadata": {
    "scrolled": true
   },
   "outputs": [],
   "source": [
    "# Do not change this part.\n",
    "import sys, os\n",
    "import pathlib\n",
    "sys.path.append(pathlib.Path().absolute())\n",
    "from csp_programming_exercise import *"
   ]
  },
  {
   "cell_type": "markdown",
   "metadata": {},
   "source": [
    "### Constructing the Domain"
   ]
  },
  {
   "cell_type": "code",
   "execution_count": null,
   "metadata": {},
   "outputs": [],
   "source": [
    "# Define your domain here\n",
    "### YOUR CODE HERE ###\n"
   ]
  },
  {
   "cell_type": "markdown",
   "metadata": {},
   "source": [
    "### Constructing the Constraints: Student Presentation in the Course AI"
   ]
  },
  {
   "cell_type": "code",
   "execution_count": null,
   "metadata": {},
   "outputs": [],
   "source": [
    "# Define you constraints here\n",
    "### YOUR CODE HERE ###\n"
   ]
  },
  {
   "cell_type": "markdown",
   "metadata": {},
   "source": [
    "### Combine the constraints and set up the CSPs for the different problems"
   ]
  },
  {
   "cell_type": "markdown",
   "metadata": {},
   "source": [
    "<div class=\"alert alert-danger\">\n",
    "    <p>The variables csp_1, csp_2, csp_3, csp_4, csp_5 are defined for setting up the CSPs for the corresponding problems. <b>You have to use these variable names otherwise this will result in failing the programming exercise.</b></p> \n",
    "</div>"
   ]
  },
  {
   "cell_type": "code",
   "execution_count": null,
   "metadata": {},
   "outputs": [],
   "source": [
    "# Construct the Student Presentation Problems\n",
    "\n",
    "# Combine Constraints and set up the csp for Problem 2.1\n",
    "### YOUR CODE HERE ###\n",
    "csp_1 = None\n",
    "\n",
    "\n",
    "\n",
    "# Combine Constraints and set up the csp for Problem 2.2\n",
    "### YOUR CODE HERE ###\n",
    "csp_2 = None\n",
    "\n",
    "\n",
    "\n",
    "# # Combine Constraints and set up the csp for Problem 2.3\n",
    "### YOUR CODE HERE ###\n",
    "csp_3 = None\n",
    "\n",
    "\n",
    "\n",
    "# # Combine Constraints and set up the csp for Problem 2.4\n",
    "### YOUR CODE HERE ###\n",
    "csp_4 = None\n",
    "\n",
    "\n",
    "\n",
    "# # Combine Constraints and set up the csp for Problem 2.5\n",
    "### YOUR CODE HERE ###\n",
    "csp_5 = None\n",
    "\n",
    "\n"
   ]
  },
  {
   "cell_type": "markdown",
   "metadata": {},
   "source": [
    "### Solving the CSP"
   ]
  },
  {
   "cell_type": "markdown",
   "metadata": {},
   "source": [
    "<div class=\"alert alert-danger\">\n",
    "    <p>Do not change the following cell. If you can't execute the following cell, you may have renamed the variables defined by us.</p> \n",
    "</div>"
   ]
  },
  {
   "cell_type": "code",
   "execution_count": null,
   "metadata": {},
   "outputs": [],
   "source": [
    "# Do not change this part\n",
    "print(ac_search_solver(csp_1))\n",
    "print(ac_search_solver(csp_2))\n",
    "print(ac_search_solver(csp_3))\n",
    "print(ac_search_solver(csp_4))\n",
    "print(ac_search_solver(csp_5))"
   ]
  }
 ],
 "metadata": {
  "celltoolbar": "Raw Cell Format",
  "kernelspec": {
   "display_name": "Python 3",
   "language": "python",
   "name": "python3"
  },
  "language_info": {
   "codemirror_mode": {
    "name": "ipython",
    "version": 3
   },
   "file_extension": ".py",
   "mimetype": "text/x-python",
   "name": "python",
   "nbconvert_exporter": "python",
   "pygments_lexer": "ipython3",
   "version": "3.7.9"
  }
 },
 "nbformat": 4,
 "nbformat_minor": 2
}
